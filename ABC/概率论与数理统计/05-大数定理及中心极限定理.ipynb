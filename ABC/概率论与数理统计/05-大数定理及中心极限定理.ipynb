{
 "cells": [
  {
   "cell_type": "code",
   "execution_count": 1,
   "metadata": {},
   "outputs": [],
   "source": [
    "import numpy as np\n",
    "import matplotlib.pyplot as plt\n",
    "import scipy.stats as st"
   ]
  },
  {
   "cell_type": "markdown",
   "metadata": {},
   "source": [
    "# 第五章 大数定律及中心极限定理\n",
    "\n",
    "## 1 大数定律\n",
    "\n",
    "### 弱大数定理(辛钦大数定理)\n",
    "\n",
    "设随机变量 $X_1, X_2, ...$ 相互独立，服从同一分布且具有数学期望 $E(X_k)=\\mu\\;(k=1,2,...)$，\n",
    "则序列 $\\bar{X}=\\frac{1}{n}\\sum_{k=1}^{n}X_k$ 依概率收敛于 $\\mu$，即 $\\bar{X}\\overset{P}{\\longrightarrow}\\mu$\n",
    "\n",
    "简单的理解：样本数量足够多的时候，样品事件的频率趋近于概率。\n",
    "\n",
    "## 中心极限定理\n",
    "\n",
    "### 定理一（独立同分布的中心极限定理）\n",
    "\n",
    "设随机变量 $X_1, X_2, ..., X_n, ...$ 相互独立，服从同一分布且具有数学期望和方差 $E(X_k)=\\mu,\\; D(X)=\\sigma^2>0 \\;(k=1,2,...)$，\n",
    "则随机变量之和 $\\sum_{k=1}^{n}X_k$ 的标准化变量\n",
    "$$\n",
    "Y_n=\\frac{\\sum_{k=1}^{n}X_k-E(\\sum_{k=1}^{n}X_k)}{\\sqrt{D(\\sum_{k=1}^{n}X_k)}}=\\frac{\\sum_{k=1}^{n}X_k-n\\mu}{\\sqrt{n}\\sigma}\n",
    "$$\n",
    "\n",
    "的分布函数 $F_n(x)$ 对于任意 $x$ 满足\n",
    "\n",
    "$$\n",
    "\\begin{aligned}\n",
    "\\lim_{n \\to +\\infty}F_n(x) & = \\lim_{n \\to +\\infty}P\\left\\{ \\frac{\\sum_{k=1}^{n}X_k-n\\mu}{\\sqrt{n}\\sigma}\\le x \\right\\} \\\\\n",
    "  & = \\int_{-\\infty}^{x} \\frac{1}{\\sqrt{2\\pi}}e^{-t^2/2}dt=\\Phi(x)\n",
    "\\end{aligned}\n",
    "$$\n",
    "\n",
    "**对定理一的理解：**\n",
    "\n",
    "同分布的多个变量之和，当n充分大时，近似服从标准正态分布 $N(0,1)$\n",
    "\n",
    "$$\n",
    "\\frac{\\bar{X}-\\mu}{\\sigma/\\sqrt{n}}\\overset{近似地}{\\sim}N(0,1) 或 \\bar{X}\\overset{近似地}{\\sim}N(\\mu,\\sigma^2/n)\n",
    "$$\n",
    "\n",
    "### 定理二（李雅普诺夫(Lyapunov)定理）\n",
    "\n",
    "设随机变量 $X_1, X_2, ..., X_n, ...$ 相互独立，它们具有数学期望和方差\n",
    "$$\n",
    "E(X_k)=\\mu_k, \\; D(X_k)=\\sigma_k^2>0, \\; k=1,2,...\n",
    "$$\n",
    "\n",
    "记\n",
    "$$\n",
    "B_n^2=\\sum_{k=1}^{n}{\\sigma_k^2}\n",
    "$$\n",
    "\n",
    "若存在正整数 $\\delta$，使得当 $n \\to \\infty$ 时，\n",
    "$$\n",
    "\\frac{1}{B_n^{2+\\delta}} \\sum_{k=1}{n}E\\{ \\left|X_k-\\mu_k \\right|^{2+\\delta} \\} \\to 0\n",
    "$$\n",
    "\n",
    "则随机变量之和 $\\sum_{k=1}^{n}X_k$ 的标准化变量\n",
    "$$\n",
    "Z_n=\\frac{\\sum_{k=1}^{n}X_k-E(\\sum_{k=1}^{n}X_k)}{\\sqrt{D(\\sum_{k=1}^{n}X_k)}}=\\frac{\\sum_{k=1}^{n}X_k-\\sum_{k=1}^{n}\\mu_k}{B_n}\n",
    "$$\n",
    "\n",
    "的分布函数 $F_n(x)$ 对于任意 $x$，满足\n",
    "$$\n",
    "\\begin{aligned}\n",
    "\\lim_{n \\to +\\infty}F_n(x) & = \\lim_{n \\to +\\infty}P\\left\\{ \\frac{\\sum_{k=1}^{n}X_k-\\sum_{k=1}^{n}\\mu_k}{B_n} \\le x \\right\\} \\\\\n",
    "  & = \\int_{-\\infty}^{x} \\frac{1}{\\sqrt{2\\pi}}e^{-t^2/2}dt=\\Phi(x)\n",
    "\\end{aligned}\n",
    "$$\n",
    "\n",
    "**对定理二的理解**\n",
    "\n",
    "无论各个随机变量服从什么分布，当n充分大时，它们的和近似服从正态分布。\n",
    "\n",
    "\n",
    "### 定理三（棣莫弗-拉普拉斯(De Moivre-Laplace)定理）\n",
    "\n",
    "设随机变量 $\\eta_n \\;(n=1,2,...)$ 服从参数为 $n,p \\;(0<p<1)$ 的二项分布，则对于任意 $x$，有\n",
    "$$\n",
    "\\begin{aligned}\n",
    "\\lim_{n \\to +\\infty} P\\left\\{ \\frac{\\eta_n - np}{\\sqrt{np(1-p)}} \\le x \\right\\} \n",
    "   = \\int_{-\\infty}^{x} \\frac{1}{\\sqrt{2\\pi}}e^{-t^2/2}dt=\\Phi(x)\n",
    "\\end{aligned}\n",
    "$$\n",
    "\n",
    "**定理三是定理一的特殊情况**\n",
    "\n",
    "### 例子\n",
    "\n",
    "二项分布B(5000, 0.3)"
   ]
  },
  {
   "cell_type": "code",
   "execution_count": 18,
   "metadata": {
    "scrolled": true
   },
   "outputs": [
    {
     "name": "stdout",
     "output_type": "stream",
     "text": [
      "np\t: 1500.0\n",
      "np(1-p)\t: 1050.0\n"
     ]
    },
    {
     "data": {
      "text/plain": [
       "[<matplotlib.lines.Line2D at 0x2379d265160>]"
      ]
     },
     "execution_count": 18,
     "metadata": {},
     "output_type": "execute_result"
    },
    {
     "data": {
      "image/png": "[encoded data removed]",
      "text/plain": [
       "<Figure size 432x288 with 1 Axes>"
      ]
     },
     "metadata": {},
     "output_type": "display_data"
    }
   ],
   "source": [
    "from math import sqrt\n",
    "\n",
    "n = 5000\n",
    "p = 0.3\n",
    "data = st.binom.rvs(n, p, size=10000)\n",
    "\n",
    "e = n*p\n",
    "sigma2 = n*p*(1-p)\n",
    "print('np\\t:', e)\n",
    "print('np(1-p)\\t:', sigma2)\n",
    "\n",
    "# 显示的值范围\n",
    "r = (1350, 1650)\n",
    "bins = 17\n",
    "# 绘制频率直方图\n",
    "plt.hist(data, bins=bins, range=r)\n",
    "\n",
    "# 绘制正态分布的概率密度曲线\n",
    "x = (np.linspace(r[0], r[1], bins*10) - e) / sqrt(sigma2)\n",
    "y = st.norm.pdf(x)\n",
    "plt.plot(np.linspace(r[0], r[1], bins*10), y*n)"
   ]
  },
  {
   "cell_type": "markdown",
   "metadata": {},
   "source": [
    "**例题**\n",
    "\n",
    "一公寓有200户住户，一户住户拥有汽车辆数 $X$ 的分布律为\n",
    "\n",
    "|X|0|1|2|\n",
    "|---|---|---|---|\n",
    "|pk|0.1|0.6|0.3|\n",
    "\n",
    "问需要多少车位，才能使每辆汽车都具有一个车位的概率至少为0.95。\n",
    "\n",
    "解法:\n",
    "\n",
    "$ E(X_k) = 0\\times0.1+1\\times0.6+2\\times0.3=1.2$\n",
    "\n",
    "$ E(X_k^2) = 0\\times0.1+1\\times0.6+2^2\\times0.3=1.8$\n",
    "\n",
    "$ D(X_k) = E(X_k^2)-E(X)^2 = 1.8 - 1.2^2 = 0.36 $\n",
    "\n",
    "因此近似地有 $ \\sum_{k=1}^{k=200}X_k \\sim N(200\\times1.2, 200\\times0.36)=N(240,\\sqrt{72}) $\n",
    "\n",
    "为了满足\n",
    "$$\n",
    "\\begin{aligned}\n",
    "P \\lgroup \\sum_{k=1}^{k=200}X_k \\le n \\rgroup &\\ge 0.95 \\\\\n",
    "\\Phi \\left(\\frac{n-240}{\\sqrt{72}} \\right) &\\ge 0.95\n",
    "\\end{aligned}\n",
    "$$\n",
    "\n",
    "因为 $0.95=\\Phi(1.645)$\n",
    "所以\n",
    "$$\n",
    "\\frac{n-240}{\\sqrt{72}} \\ge 1.645 \\\\\n",
    "n \\ge 253.96\n",
    "$$\n",
    "\n",
    "至少需要254个车位"
   ]
  },
  {
   "cell_type": "markdown",
   "metadata": {},
   "source": [
    "**思考题**\n",
    "\n",
    "某种电子器件的寿命（小时）具有数学期望 $\\mu$（未知），方差 $\\sigma^2=400$。为了估计 $\\mu$，随机地取 $n$ 只这种器件，在时刻 $t=0$ 投入测试（测试相互独立）直到失效，测得其寿命为 $X_1,X_2,...,X_n$，以 $\\bar{X}=\\frac{1}{n}\\sum_{i=1}^{n}X_i$ 作为 $\\mu$ 的估计，为使 ${P\\{|\\bar{X}-\\mu|<1\\}} \\ge 0.95$，问 $n$ 至少为多少?"
   ]
  }
 ],
 "metadata": {
  "kernelspec": {
   "display_name": "Python 3",
   "language": "python",
   "name": "python3"
  },
  "language_info": {
   "codemirror_mode": {
    "name": "ipython",
    "version": 3
   },
   "file_extension": ".py",
   "mimetype": "text/x-python",
   "name": "python",
   "nbconvert_exporter": "python",
   "pygments_lexer": "ipython3",
   "version": "3.7.7"
  }
 },
 "nbformat": 4,
 "nbformat_minor": 2
}
