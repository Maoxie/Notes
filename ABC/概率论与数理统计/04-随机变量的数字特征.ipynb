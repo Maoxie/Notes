{
 "cells": [
  {
   "cell_type": "code",
   "execution_count": 2,
   "metadata": {},
   "outputs": [],
   "source": [
    "import numpy as np\n",
    "import matplotlib.pyplot as plt\n",
    "import scipy.stats as st"
   ]
  },
  {
   "cell_type": "markdown",
   "metadata": {},
   "source": [
    "# 第四章 随机变量的数字特征\n",
    "\n",
    "## 1 数学期望\n",
    "\n",
    "数学期望简称**期望**，又称为**均值**\n",
    "\n",
    "随机变量X的期望记为 $ E(X) $\n",
    "\n",
    "### 定义\n",
    "\n",
    "#### 离散型随机变量的期望\n",
    "\n",
    "$$\n",
    "E(X)=\\sum_{k=1}^{\\infty}{x_kp_k}\n",
    "$$\n",
    "\n",
    "**例子：**\n",
    "\n",
    "|X   |0   |1   |2   |3   |4   |5  |6   |7   |8   |9   |10   |\n",
    "|-----|-----|-----|-----|-----|----|----|----|----|----|----|----|\n",
    "|*pk*   |0.002|0.001|0.002|0.005|0.02|0.04|0.18|0.37|0.25|0.12|0.01|\n",
    "\n",
    "**求解：**"
   ]
  },
  {
   "cell_type": "code",
   "execution_count": 2,
   "metadata": {},
   "outputs": [
    {
     "name": "stdout",
     "output_type": "stream",
     "text": [
      "E(X) = 7.15\n"
     ]
    }
   ],
   "source": [
    "x = np.arange(11)\n",
    "p = np.array([0.002, 0.001, 0.002, 0.005, 0.02, 0.04, 0.18, 0.37, 0.25, 0.12, 0.01])\n",
    "print('E(X) =', np.sum(x*p))"
   ]
  },
  {
   "cell_type": "markdown",
   "metadata": {},
   "source": [
    "#### 连续型随机变量的期望\n",
    "\n",
    "$$\n",
    "E(X)=\\int_{-\\infty}^{\\infty}{xf(x)}dx\n",
    "$$\n",
    "\n",
    "**例子：**\n",
    "\n",
    "两个相互独立的电子装置，它们的寿命 $ X_k (k=1,2)$ 服从同一分布率，其概率密度函数为\n",
    "$$\n",
    "\\begin{align}\n",
    "f(x) &= \\frac{1}{\\theta}e^{-x/\\theta}, &x>0 \\\\\n",
    "f(x) &= 0, &x\\le0 \\\\\n",
    "\\end{align}\n",
    "$$\n",
    "\n",
    "如果将这两个电子装置串联组成整机，求整机寿命 $ N $ 的数学期望。\n",
    "\n",
    "**求解：**\n",
    "\n",
    "积分得到分布函数：\n",
    "$$\n",
    "\\begin{align}\n",
    "F(x) &= 1-e^{-x/\\theta}, &x>0 \\\\\n",
    "F(x) &= 0, &x\\le0 \\\\\n",
    "\\end{align}\n",
    "$$\n",
    "\n",
    "因此$ N=min\\{X_1, X_2\\} $ 的分布函数为\n",
    "$$\n",
    "F_{min}(x)=1-[1-F(x)]^2= \\left\\{ \\begin{align}\n",
    "& 1-e^{-x/\\theta}, & x>0 \\\\\n",
    "& 0, & x\\le0 \\\\\n",
    "\\end{align}\n",
    "\\right.\n",
    "$$\n",
    "\n",
    "$ N $ 的概率密度函数为\n",
    "$$\n",
    "f_{min}(x)= \\left\\{ \\begin{align}\n",
    "& \\frac{2}{\\theta}e^{-2x/\\theta}, & x>0 \\\\\n",
    "& 0, & x\\le0 \\\\\n",
    "\\end{align}\n",
    "\\right.\n",
    "$$\n",
    "\n",
    "因此 $ N $ 的数学期望为\n",
    "$$\n",
    "E(N)=\\int_{-\\infty}^{\\infty}xf_{min}(x)dx=\\int_{0}^{\\infty}{\\frac{2x}{\\theta}e^{-2x/\\theta}}dx=\\frac{\\theta}{2}\n",
    "$$\n",
    "\n",
    "**用代码验证：**"
   ]
  },
  {
   "cell_type": "code",
   "execution_count": 5,
   "metadata": {},
   "outputs": [
    {
     "name": "stdout",
     "output_type": "stream",
     "text": [
      "θ\t: 40.42577267086629\n",
      "θ/2\t: 20.212886335433144\n",
      "样本均值: 18.717479377408466\n"
     ]
    }
   ],
   "source": [
    "from math import exp\n",
    "from functools import partial\n",
    "\n",
    "class DistributionGen(st.rv_continuous):\n",
    "    \"\"\"生成概率分布数据\"\"\"\n",
    "    def __init__(self, theta, *args, **kwargs):\n",
    "        self.theta = theta\n",
    "        super().__init__(*args, **kwargs)\n",
    "\n",
    "    def _pdf(self, x):\n",
    "        if x <= 0:\n",
    "            return 0\n",
    "        else:\n",
    "            return 2*exp(-2*x/self.theta)/self.theta\n",
    "\n",
    "theta = np.random.uniform(1, 100)\n",
    "gen = DistributionGen(theta=theta, name='f1')\n",
    "print('θ\\t:', theta)\n",
    "print('θ/2\\t:', theta/2)\n",
    "\n",
    "# 利用概率分布生成抽样数据，计算抽样结果的平均值\n",
    "samples = gen.rvs(size=100)\n",
    "print('样本均值:', samples.mean())"
   ]
  },
  {
   "cell_type": "markdown",
   "metadata": {},
   "source": [
    "**性质**\n",
    "\n",
    "$$\n",
    "\\begin{align}\n",
    "E(C) & = C & \\\\\n",
    "E(CX) & = CE(X) & \\\\\n",
    "E(X+Y) & = E(X)+E(Y) & \\\\\n",
    "E(XY) & = E(X)E(Y) & X,Y相互独立\n",
    "\\end{align}\n",
    "$$"
   ]
  },
  {
   "cell_type": "markdown",
   "metadata": {},
   "source": [
    "## 2 方差\n",
    "\n",
    "### 定义\n",
    "\n",
    "**方差**\n",
    "$$\n",
    "D(X)=Var(X)=E\\{[X-E(X)]^2\\}\n",
    "$$\n",
    "\n",
    "**标准差**或**均方差** $ \\sqrt{(D(X))} $ ，记为 $\\sigma(X)$\n",
    "\n",
    "对于离散型随机变量\n",
    "$$\n",
    "\\begin{align}\n",
    "D(X) & = \\sum_{k=1}^{\\infty}{[x_k-E(X)]^2p_k} \\\\\n",
    "    & = E(X^2) - [E(X)]^2\n",
    "\\end{align}\n",
    "$$\n",
    "\n",
    "对于连续型随机变量\n",
    "$$\n",
    "D(X) = \\int_{-\\infty}^{\\infty}[x-E()x]^2f(x)dx\n",
    "$$\n",
    "\n",
    "**性质**\n",
    "\n",
    "$$\n",
    "\\begin{align}\n",
    "D(C) & = 0 & \\\\\n",
    "D(CX) & = C^2D(X) & \\\\\n",
    "D(X+Y) & = D(X)+D(Y)+2E\\{(X-E(X)(Y-E(Y)))\\} & \\\\\n",
    "\\end{align}\n",
    "$$\n",
    "\n",
    "\n",
    "**例子:**\n",
    "\n",
    "求二项分布的 $X \\sim B(n, p)$ 的 $D(X)$ 。\n",
    "\n",
    "随机变量 $X \\sim B(n, p)$ 可以分解为n个相互独立的服从以 $p$ 为参数的(0,1)分布的随机变量之和，\n",
    "$E(X_k)=0\\times(1-p)+1\\times p=p$,\n",
    "$D(X_k)=[0-E(X_k)]^2(1-p)+[1-E(X_k)]^2p=p(1-p)$\n",
    "\n",
    "$$\n",
    "\\begin{align}\n",
    "D(X) & = D(\\sum_{k=1}^{n}X_k)=\\sum_{k=1}^{n}D(X_k) \\\\\n",
    "  & = np(1-p)\n",
    "\\end{align}\n",
    "$$\n",
    "\n",
    "**代码验证:**"
   ]
  },
  {
   "cell_type": "code",
   "execution_count": 6,
   "metadata": {},
   "outputs": [
    {
     "name": "stdout",
     "output_type": "stream",
     "text": [
      "n\t: 100\n",
      "p\t: 0.7\n",
      "np\t: 70.0\n",
      "np(1-p)\t: 21.000000000000004\n",
      "样本均值: 69.922\n",
      "样本方差: 21.271915999999994\n"
     ]
    }
   ],
   "source": [
    "# 利用概率分布生成抽样数据，计算抽样结果的平均值\n",
    "n = 100\n",
    "p = 0.7\n",
    "samples = st.binom(n=n, p=p).rvs(size=1000)\n",
    "print('n\\t:', n)\n",
    "print('p\\t:', p)\n",
    "print('np\\t:', n*p)\n",
    "print('np(1-p)\\t:', n*p*(1-p))\n",
    "print('样本均值:', samples.mean())\n",
    "print('样本方差:', samples.var())"
   ]
  },
  {
   "cell_type": "markdown",
   "metadata": {},
   "source": [
    "## 3 协方差\n",
    "\n",
    "随机变量 $X$ 与 $Y$ 的**协方差**记为 $Cov(X,Y)$,\n",
    "$$\n",
    "Cov(X,Y)=E([X-E(X)][Y-E(Y)])\n",
    "$$\n",
    "\n",
    "而\n",
    "$$\n",
    "\\rho_{XY}=\\frac{Cov(X,Y)}{\\sqrt{D(X)}\\sqrt{D(Y)}}\n",
    "$$\n",
    "称为随机变量 $X$ 与 $Y$ 的**相关系数**\n",
    "\n",
    "将Cov(X, Y)的定义式展开，得\n",
    "$$\n",
    "Cov(X，Y)=E(XY)-E(X)E(Y)\n",
    "$$\n",
    "\n",
    "**性质**\n",
    "\n",
    "$ Cov(aX,bY) = abCov(X,Y) $\n",
    "\n",
    "$ Cov(X_1+X_2,Y) = Cov(X_1,Y)+Cov(X_2,Y) $\n",
    "\n",
    "$\\rho_{XY}\\le1$\n",
    "\n",
    "$\\rho_{XY}=1$ 的充要条件是，存在常数a,b使\n",
    "$$ P{Y=a+bX}=1 $$\n",
    "\n",
    "当 $\\rho_{XY}=0$ 时，称 $X$ 与 $Y$ **不相关**\n",
    "\n",
    "**例子:**\n",
    "\n",
    "|Y  |X  |-2  |-1  |1  |2  |P{Y=i}|\n",
    "|---|---|----|----|---|---|------|\n",
    "|1  |   |0  |1/4  |1/4  |0  |1/2  |\n",
    "|4  |   |1/4  |0  |0  |1/4  |1/2  |\n",
    "|P{X=i}| |1/4  |1/4  |1/4  |1/4  |1  |\n"
   ]
  },
  {
   "cell_type": "code",
   "execution_count": 7,
   "metadata": {},
   "outputs": [
    {
     "name": "stdout",
     "output_type": "stream",
     "text": [
      "E(X)\t= 0.0\n",
      "E(Y)\t= 2.5\n",
      "XY:\n",
      "[[-2 -1  1  2]\n",
      " [-8 -4  4  8]]\n",
      "P{XY}:\n",
      "[[0.125 0.125 0.125 0.125]\n",
      " [0.125 0.125 0.125 0.125]]\n",
      "E(X,Y)\t= 0.0\n",
      "Cov(X, Y)\t= 0.0\n"
     ]
    }
   ],
   "source": [
    "x = np.array([-2, -1, 1, 2])\n",
    "px = np.array([1/4, 1/4, 1/4, 1/4])\n",
    "\n",
    "y = np.array([1,4])\n",
    "py = np.array([1/2, 1/2])\n",
    "\n",
    "e_x = np.sum(x*px)\n",
    "e_y = np.sum(y*py)\n",
    "print('E(X)\\t=', e_x)\n",
    "print('E(Y)\\t=', e_y)\n",
    "\n",
    "xy = x*np.array([y]).T\n",
    "print('XY:')\n",
    "print(xy)\n",
    "\n",
    "pxy = px*np.array([py]).T\n",
    "print('P{XY}:')\n",
    "print(pxy)\n",
    "\n",
    "e_xy = (xy*pxy).sum().sum()\n",
    "print('E(X,Y)\\t=', e_xy)\n",
    "\n",
    "print('Cov(X, Y)\\t=', e_xy-e_x*e_y)"
   ]
  },
  {
   "cell_type": "code",
   "execution_count": null,
   "metadata": {},
   "outputs": [],
   "source": []
  }
 ],
 "metadata": {
  "kernelspec": {
   "display_name": "Python 3",
   "language": "python",
   "name": "python3"
  },
  "language_info": {
   "codemirror_mode": {
    "name": "ipython",
    "version": 3
   },
   "file_extension": ".py",
   "mimetype": "text/x-python",
   "name": "python",
   "nbconvert_exporter": "python",
   "pygments_lexer": "ipython3",
   "version": "3.7.7"
  }
 },
 "nbformat": 4,
 "nbformat_minor": 2
}
